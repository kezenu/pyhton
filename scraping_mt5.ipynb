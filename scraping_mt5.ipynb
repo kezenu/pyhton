{
 "cells": [
  {
   "cell_type": "code",
   "execution_count": 3,
   "id": "9336961e-d82e-4aeb-ab5f-6a2c22c6bdaa",
   "metadata": {},
   "outputs": [],
   "source": [
    "import MetaTrader5 as mt5\n",
    "import pandas as pd"
   ]
  },
  {
   "cell_type": "code",
   "execution_count": 4,
   "id": "8127827f-977d-4a05-8b70-120c2d22a7fe",
   "metadata": {},
   "outputs": [],
   "source": [
    "# Peta input user ke atribut MetaTrader5\n",
    "TIMEFRAME_MAP = {\n",
    "    \"M1\": \"TIMEFRAME_M1\",\n",
    "    \"M5\": \"TIMEFRAME_M5\",\n",
    "    \"M15\": \"TIMEFRAME_M15\",\n",
    "    \"M30\": \"TIMEFRAME_M30\",\n",
    "    \"H1\": \"TIMEFRAME_H1\",\n",
    "    \"H4\": \"TIMEFRAME_H4\",\n",
    "    \"D1\": \"TIMEFRAME_D1\",\n",
    "    \"W1\": \"TIMEFRAME_W1\",\n",
    "    \"MN1\": \"TIMEFRAME_MN1\",\n",
    "}"
   ]
  },
  {
   "cell_type": "code",
   "execution_count": 5,
   "id": "19357e3f-3ed3-4af6-be6b-96bcf622cbbd",
   "metadata": {},
   "outputs": [],
   "source": [
    "def scrapper(s, tf_key, candle):\n",
    "    if tf_key not in TIMEFRAME_MAP:\n",
    "        print(f\"Timeframe '{tf_key}' tidak valid.\")\n",
    "        return\n",
    "\n",
    "    tf_str = TIMEFRAME_MAP[tf_key]\n",
    "\n",
    "    if not mt5.initialize():\n",
    "        print(\"Gagal menghubungkan ke MetaTrader5\")\n",
    "        return\n",
    "\n",
    "    TF = getattr(mt5, tf_str)\n",
    "    bar = candle\n",
    "\n",
    "    rates = mt5.copy_rates_from_pos(s, TF, 0, bar)\n",
    "    mt5.shutdown()\n",
    "\n",
    "    if rates is None or len(rates) == 0:\n",
    "        print(\"Data tidak ditemukan.\")\n",
    "        return\n",
    "\n",
    "    df = pd.DataFrame(rates)\n",
    "    df[\"time\"] = pd.to_datetime(df[\"time\"], unit='s')\n",
    "    df[\"open\"] = round(df[\"open\"], 5)\n",
    "    df[\"high\"] = round(df[\"high\"], 5)\n",
    "    df[\"low\"] = round(df[\"low\"], 5)\n",
    "    df[\"close\"] = round(df[\"close\"], 5)\n",
    "    df = df[['time', 'open', 'high', 'low', 'close', 'tick_volume']]\n",
    "\n",
    "    df.to_csv(f\"data/{s}_{tf_key}.csv\", index=False)\n",
    "    print(f\"✅ Data {s} ({tf_key}) berhasil disimpan ke CSV\")"
   ]
  },
  {
   "cell_type": "code",
   "execution_count": 6,
   "id": "eb8d663d-2658-4698-ad78-8452e5806340",
   "metadata": {},
   "outputs": [
    {
     "name": "stdout",
     "output_type": "stream",
     "text": [
      "✅ Data EURUSD (H4) berhasil disimpan ke CSV\n"
     ]
    }
   ],
   "source": [
    "s = input(\"Masukkan simbol (contoh: EURUSD): \").upper()\n",
    "tf_key = input(\"Masukkan Timeframe (M1, M5, H1, D1, dll): \").upper()\n",
    "candle = int(input(\"Masukkan jumlah candlestick: \"))\n",
    "\n",
    "scrapper(s, tf_key, candle)"
   ]
  }
 ],
 "metadata": {
  "kernelspec": {
   "display_name": "env",
   "language": "python",
   "name": "python3"
  },
  "language_info": {
   "codemirror_mode": {
    "name": "ipython",
    "version": 3
   },
   "file_extension": ".py",
   "mimetype": "text/x-python",
   "name": "python",
   "nbconvert_exporter": "python",
   "pygments_lexer": "ipython3",
   "version": "3.11.9"
  }
 },
 "nbformat": 4,
 "nbformat_minor": 5
}
